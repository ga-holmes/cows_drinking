{
 "cells": [
  {
   "cell_type": "code",
   "execution_count": 1,
   "metadata": {},
   "outputs": [
    {
     "name": "stderr",
     "output_type": "stream",
     "text": [
      "c:\\Users\\gameg\\miniconda3\\envs\\pytorch\\lib\\site-packages\\tqdm\\auto.py:22: TqdmWarning: IProgress not found. Please update jupyter and ipywidgets. See https://ipywidgets.readthedocs.io/en/stable/user_install.html\n",
      "  from .autonotebook import tqdm as notebook_tqdm\n",
      "c:\\Users\\gameg\\miniconda3\\envs\\pytorch\\lib\\site-packages\\torchvision\\models\\_utils.py:209: UserWarning: The parameter 'pretrained' is deprecated since 0.13 and will be removed in 0.15, please use 'weights' instead.\n",
      "  f\"The parameter '{pretrained_param}' is deprecated since 0.13 and will be removed in 0.15, \"\n",
      "c:\\Users\\gameg\\miniconda3\\envs\\pytorch\\lib\\site-packages\\torchvision\\models\\_utils.py:223: UserWarning: Arguments other than a weight enum or `None` for 'weights' are deprecated since 0.13 and will be removed in 0.15. The current behavior is equivalent to passing `weights=None`.\n",
      "  warnings.warn(msg)\n"
     ]
    }
   ],
   "source": [
    "import os\n",
    "import cv2\n",
    "import numpy as np\n",
    "from tqdm import tqdm\n",
    "\n",
    "import json\n",
    "\n",
    "import matplotlib.pyplot as plt\n",
    "\n",
    "import torch\n",
    "import torch.nn as nn\n",
    "import torch.nn.functional as F\n",
    "import torch.optim as optim\n",
    "from torch.optim import lr_scheduler\n",
    "\n",
    "from torchvision.models import resnet50, resnet18, resnext50_32x4d\n",
    "\n",
    "from datetime import datetime as dt\n",
    "\n",
    "import imgaug as ia\n",
    "import imgaug.augmenters as iaa\n",
    "\n",
    "from dataset_functions import *\n",
    "from trainer import *\n",
    "\n",
    "import tkinter as tk\n",
    "from PIL import Image, ImageTk\n",
    "import torchvision.transforms as T\n",
    "\n",
    "# file containing the dataset (.npy file)\n",
    "DATASET_FILE = 'training_all_colour_256.npy'\n",
    "\n",
    "# set to True if running for the first time & there are no trained weights to load\n",
    "DOWNLOAD_WEIGHTS = False\n",
    "# choose what type of model to use from the pytorch models\n",
    "model = resnet18(pretrained=DOWNLOAD_WEIGHTS)\n",
    "\n",
    "WEIGHT_FILE = 'weights/resnet18_weights_alldata.pth'\n",
    "\n",
    "# pick a model (resnet50, resnet18)\n",
    "MODEL_NAME = 'resnext50_32x4d'\n",
    "\n",
    "LOG_NAME = MODEL_NAME + '_alldata_scheduled_10e128bsMSE_Adam'\n",
    "WEIGHT_DIR = 'weights'\n",
    "LOG_DIR = 'logs'\n"
   ]
  },
  {
   "cell_type": "code",
   "execution_count": 2,
   "metadata": {},
   "outputs": [
    {
     "name": "stdout",
     "output_type": "stream",
     "text": [
      "Running on GPU\n"
     ]
    }
   ],
   "source": [
    "# dynamically define whether to run on gpu or cpu\n",
    "device_to_use = torch.device(\"cpu\")\n",
    "\n",
    "if torch.cuda.is_available():\n",
    "    device_to_use = torch.device(\"cuda:0\")\n",
    "    print(\"Running on GPU\")\n",
    "else:\n",
    "    print(\"Running on CPU\")"
   ]
  },
  {
   "cell_type": "markdown",
   "metadata": {},
   "source": [
    "Prepare the Dataset:"
   ]
  },
  {
   "cell_type": "code",
   "execution_count": null,
   "metadata": {},
   "outputs": [],
   "source": [
    "im_size = 256\n",
    "\n",
    "# imgaug transforms\n",
    "seq = iaa.Sequential([\n",
    "    iaa.Resize({\"height\": im_size, \"width\": im_size}),\n",
    "])\n",
    "\n",
    "train_X, train_y, test_X, test_y, im_info = load_split_data(DATASET_FILE, seq, validation_percent=0.1)\n",
    "\n",
    "num_classes = im_info['classes']\n",
    "im_chan = im_info['channels']\n",
    "im_size = im_info['size']\n",
    "\n",
    "print(len(train_X), len(train_y))"
   ]
  },
  {
   "cell_type": "markdown",
   "metadata": {},
   "source": [
    "Working with the model:"
   ]
  },
  {
   "cell_type": "code",
   "execution_count": null,
   "metadata": {},
   "outputs": [],
   "source": [
    "# load from resnet modelinternet\n",
    "print('Downloading ImageNet weights:', DOWNLOAD_WEIGHTS)\n",
    "\n",
    "# model setup\n",
    "\n",
    "# Get the number of inputs to the last fully connected layer in the model\n",
    "num_ftrs = model.fc.in_features\n",
    "# create a new final fully connected layer that we can train to replace the other fully connected layer\n",
    "model.fc = nn.Linear(num_ftrs, num_classes)\n",
    "\n",
    "# load weights from file\n",
    "weight_file = WEIGHT_FILE\n",
    "\n",
    "if not DOWNLOAD_WEIGHTS: # load from file\n",
    "    model.load_state_dict(torch.load(weight_file, map_location=device_to_use))\n",
    "\n",
    "print('Done loading weights')\n",
    "\n",
    "# add the model to the device\n",
    "model = model.to(device_to_use)\n",
    "\n",
    "cow_model = Trainer(model, im_size, LOG_NAME, device=device_to_use)\n",
    "\n",
    "# if there is a memory error, lower the batch size (you want a batch size of at least 8 however)\n",
    "cow_model.BATCH_SIZE = 128\n",
    "cow_model.EPOCHS = 10\n",
    "cow_model.learning_rate = 0.001\n",
    "\n",
    "cow_model.log_dir = LOG_DIR\n",
    "\n",
    "cow_model.loss_function = nn.MSELoss()\n",
    "cow_model.optimizer = optim.Adam(model.fc.parameters(), lr=cow_model.learning_rate)\n",
    "# See: https://coderzcolumn.com/tutorials/artificial-intelligence/pytorch-learning-rate-schedules#2\n",
    "# step_size is after how many epochs/batches to update the LR\n",
    "# gamma is how much to multiply the learning rate by at each step\n",
    "cow_model.scheduler = lr_scheduler.StepLR(cow_model.optimizer, step_size=2, gamma=0.9, verbose=True)\n",
    "\n",
    "print(f\"Created {MODEL_NAME}, batch size={cow_model.BATCH_SIZE}, learning rate={cow_model.learning_rate}, training for {cow_model.EPOCHS} epochs using {cow_model.optimizer} optimizer & {cow_model.loss_function} loss...\")"
   ]
  },
  {
   "cell_type": "code",
   "execution_count": null,
   "metadata": {},
   "outputs": [],
   "source": [
    "plt.imshow(train_X[0].permute(1,2,0))\n",
    "plt.show()"
   ]
  },
  {
   "cell_type": "code",
   "execution_count": null,
   "metadata": {},
   "outputs": [],
   "source": [
    "# Transfer learning\n",
    "\n",
    "# freeze all the layers\n",
    "for param in model.parameters():\n",
    "    param.requires_grad = False\n",
    "\n",
    "# unfreeze the final fully connected layer\n",
    "model.fc.requires_grad_(True)\n",
    "\n",
    "val_acc, val_loss, res, lab = cow_model.test(test_X=test_X, test_y=test_y)\n",
    "\n",
    "print(f'Before Training: acc={val_acc}, loss={val_loss}')\n",
    "\n",
    "cow_model.train(train_X, train_y, validate=True, val_steps=50, test_X=test_X, test_y=test_y)\n",
    "\n",
    "\n",
    "# print('Fine-tuning')\n",
    "# # Fine-tune for one epoch:\n",
    "\n",
    "# # unfreeze all the layers\n",
    "# for param in model.parameters():\n",
    "#     param.requires_grad = True\n",
    "\n",
    "# # train for 1 epoch\n",
    "# cow_model.EPOCHS = 1\n",
    "# cow_model.modelname=LOG_NAME+'_2',\n",
    "# cow_model.train(train_X, train_y, validate=True, val_steps=50, test_X=test_X, test_y=test_y)\n"
   ]
  },
  {
   "cell_type": "code",
   "execution_count": null,
   "metadata": {},
   "outputs": [],
   "source": [
    "val_acc, val_loss, bad_results, bad_labels = cow_model.test(test_X=test_X, test_y=test_y, size=(int(len(test_y)-1)))\n",
    "\n",
    "print(f'After Training: acc={val_acc}, loss={val_loss}')\n",
    "print(f'{len(bad_results)} incorrect predictions')\n"
   ]
  },
  {
   "cell_type": "code",
   "execution_count": null,
   "metadata": {},
   "outputs": [],
   "source": [
    "len(train_X)"
   ]
  },
  {
   "cell_type": "code",
   "execution_count": null,
   "metadata": {},
   "outputs": [],
   "source": [
    "# Save the model: https://towardsdatascience.com/everything-you-need-to-know-about-saving-weights-in-pytorch-572651f3f8de\n",
    "\n",
    "model_out_path = fix_filename(f'{LOG_NAME}_weights_{dt.datetime.now().isoformat()}.pth')\n",
    "\n",
    "# make the directory in case\n",
    "if not os.path.isdir(WEIGHT_DIR):\n",
    "    os.mkdir(WEIGHT_DIR)\n",
    "\n",
    "# save the model weights (the state_dict)\n",
    "# NOTE: Must be loaded to an already-defined resnet50 architecture\n",
    "torch.save(model.state_dict(), os.path.join(WEIGHT_DIR, model_out_path))"
   ]
  },
  {
   "cell_type": "code",
   "execution_count": null,
   "metadata": {},
   "outputs": [],
   "source": [
    "# UI that shows all incorrect predictions & the PREDICTED label from the test set\n",
    "\n",
    "trans = T.ToPILImage()\n",
    "\n",
    "bad_images = [trans(i.cpu()) for i in bad_results]\n",
    "bad_labels = [i.cpu() for i in bad_labels]\n",
    "\n",
    "LABELS = {\"0\": \"EMPTY\", \"1\": \"COW\"}\n",
    "\n",
    "class app():\n",
    "\n",
    "    im_to_show = 0\n",
    "\n",
    "    def __init__(self, x, y):\n",
    "        self.root = tk.Tk()\n",
    "        self.canvas = tk.Canvas(self.root, width=x, height=y)\n",
    "        self.canvas.pack()\n",
    "\n",
    "        Bu = tk.Button(self.root, text =\"^\", command = self.upim)\n",
    "        Bd = tk.Button(self.root, text =\"v\", command = self.downim)\n",
    "\n",
    "        Bu.pack()\n",
    "        Bd.pack()\n",
    "\n",
    "        # self.canvas.create_image((x/2)-60,y/2,anchor=tk.NW,image=self.img)\n",
    "        # self.canvas.create_text(x/2, (y/2)-10, text=self.txt, fill=\"black\", font=('Helvetica 12 bold'))\n",
    "        self.canvas.pack\n",
    "\n",
    "        self.root.mainloop()\n",
    "\n",
    "    def upim(self):\n",
    "        self.im_to_show = (self.im_to_show + 1) % len(bad_images)\n",
    "        txt = LABELS[str(bad_labels[self.im_to_show].item())]\n",
    "\n",
    "        self.canvas.delete('all')\n",
    "        img = ImageTk.PhotoImage(bad_images[self.im_to_show])\n",
    "\n",
    "        self.canvas.create_image((x/2)-60,y/2,anchor=tk.NW,image=img)\n",
    "        self.canvas.create_text(x/2, (y/2)-10, text=txt, fill=\"black\", font=('Helvetica 12 bold'))\n",
    "        # for some unknown reason, the below line NEEDS to be here, even though it doesnt work\n",
    "        self.canvas.create_text(x/2, (y/2)-10, text=self.txt, fill=\"black\", font=('Helvetica 12 bold'))\n",
    "\n",
    "\n",
    "    def downim(self):\n",
    "        self.im_to_show = self.im_to_show - 1 if self.im_to_show - 1 >= 0 else len(bad_images) - 1\n",
    "        txt = LABELS[str(bad_labels[self.im_to_show].item())]\n",
    "\n",
    "        self.canvas.delete('all')\n",
    "        img = ImageTk.PhotoImage(bad_images[self.im_to_show])\n",
    "\n",
    "        self.canvas.create_image((x/2)-60,y/2,anchor=tk.NW,image=img)\n",
    "        self.canvas.create_text(x/2, (y/2)-10, text=txt, fill=\"black\", font=('Helvetica 12 bold'))\n",
    "        # for some unknown reason, the below line NEEDS to be here, even though it doesnt work\n",
    "        self.canvas.create_text(x/2, (y/2)-10, text=self.txt, fill=\"black\", font=('Helvetica 12 bold'))\n",
    "\n",
    "x, y = 400, 400\n",
    "\n",
    "app(x, y)"
   ]
  }
 ],
 "metadata": {
  "kernelspec": {
   "display_name": "Python 3.7.13 ('pytorch')",
   "language": "python",
   "name": "python3"
  },
  "language_info": {
   "codemirror_mode": {
    "name": "ipython",
    "version": 3
   },
   "file_extension": ".py",
   "mimetype": "text/x-python",
   "name": "python",
   "nbconvert_exporter": "python",
   "pygments_lexer": "ipython3",
   "version": "3.7.13"
  },
  "orig_nbformat": 4,
  "vscode": {
   "interpreter": {
    "hash": "0b01795b34364d7472978a8815f7943e8d05b44d85d48eba73c3a8d9386ab552"
   }
  }
 },
 "nbformat": 4,
 "nbformat_minor": 2
}
